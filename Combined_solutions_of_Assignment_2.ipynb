{
  "nbformat": 4,
  "nbformat_minor": 0,
  "metadata": {
    "colab": {
      "provenance": []
    },
    "kernelspec": {
      "name": "python3",
      "display_name": "Python 3"
    },
    "language_info": {
      "name": "python"
    }
  },
  "cells": [
    {
      "cell_type": "code",
      "execution_count": 6,
      "metadata": {
        "colab": {
          "base_uri": "https://localhost:8080/"
        },
        "id": "Jibxz5h9Z5Tw",
        "outputId": "0d72a7d7-9c4d-414a-be71-90bb411a7da5"
      },
      "outputs": [
        {
          "output_type": "stream",
          "name": "stdout",
          "text": [
            "SOLUTION 1: LIST OPERATIONS\n",
            "--------------------------------------------------\n",
            "Original List: [10, 20, 30, 40, 50, 60, 70, 80]\n",
            "\n",
            "After adding 200 and 300:\n",
            "[10, 20, 30, 40, 50, 60, 70, 80, 200, 300]\n",
            "\n",
            "After removing 10 and 30:\n",
            "[20, 40, 50, 60, 70, 80, 200, 300]\n",
            "\n",
            "After sorting in ascending order:\n",
            "[20, 40, 50, 60, 70, 80, 200, 300]\n",
            "\n",
            "After sorting in descending order:\n",
            "[300, 200, 80, 70, 60, 50, 40, 20]\n"
          ]
        }
      ],
      "source": [
        "print(\"SOLUTION 1: LIST OPERATIONS\")\n",
        "print(\"-\" * 50)\n",
        "\n",
        "L = [10, 20, 30, 40, 50, 60, 70, 80]\n",
        "print(\"Original List:\", L)\n",
        "\n",
        "print(\"\\nAfter adding 200 and 300:\")\n",
        "L.extend([200, 300])\n",
        "print(L)\n",
        "\n",
        "print(\"\\nAfter removing 10 and 30:\")\n",
        "L.remove(10)\n",
        "L.remove(30)\n",
        "print(L)\n",
        "\n",
        "print(\"\\nAfter sorting in ascending order:\")\n",
        "L.sort()\n",
        "print(L)\n",
        "\n",
        "print(\"\\nAfter sorting in descending order:\")\n",
        "L.sort(reverse=True)\n",
        "print(L)"
      ]
    },
    {
      "cell_type": "code",
      "source": [
        "print(\"SOLUTION 2: TUPLE OPERATIONS\")\n",
        "print(\"-\" * 50)\n",
        "\n",
        "scores = (45, 89.5, 76, 45.4, 89, 92, 58, 45)\n",
        "print(\"Original tuple:\", scores)\n",
        "\n",
        "max_score = max(scores)\n",
        "max_index = scores.index(max_score)\n",
        "print(f\"\\nHighest score: {max_score} at index {max_index}\")\n",
        "\n",
        "min_score = min(scores)\n",
        "min_count = scores.count(min_score)\n",
        "print(f\"Lowest score: {min_score} appears {min_count} times\")\n",
        "\n",
        "reversed_list = list(reversed(scores))\n",
        "print(f\"\\nReversed tuple as list: {reversed_list}\")\n",
        "\n",
        "score_to_find = 76\n",
        "if score_to_find in scores:\n",
        "    print(f\"\\nScore {score_to_find} found at index {scores.index(score_to_find)}\")\n",
        "else:\n",
        "    print(f\"\\nScore {score_to_find} not found\")"
      ],
      "metadata": {
        "colab": {
          "base_uri": "https://localhost:8080/"
        },
        "id": "T-niLkAeZ6JR",
        "outputId": "e1af97ee-cb8d-46db-de6d-0b0ed13978bd"
      },
      "execution_count": 7,
      "outputs": [
        {
          "output_type": "stream",
          "name": "stdout",
          "text": [
            "SOLUTION 2: TUPLE OPERATIONS\n",
            "--------------------------------------------------\n",
            "Original tuple: (45, 89.5, 76, 45.4, 89, 92, 58, 45)\n",
            "\n",
            "Highest score: 92 at index 5\n",
            "Lowest score: 45 appears 2 times\n",
            "\n",
            "Reversed tuple as list: [45, 58, 92, 89, 45.4, 76, 89.5, 45]\n",
            "\n",
            "Score 76 found at index 2\n"
          ]
        }
      ]
    },
    {
      "cell_type": "code",
      "source": [
        "print(\"SOLUTION 3: RANDOM NUMBERS ANALYSIS\")\n",
        "print(\"-\" * 50)\n",
        "\n",
        "import random\n",
        "\n",
        "def is_prime(n):\n",
        "    if n < 2:\n",
        "        return False\n",
        "    for i in range(2, int(n ** 0.5) + 1):\n",
        "        if n % i == 0:\n",
        "            return False\n",
        "    return True\n",
        "\n",
        "numbers = [random.randint(100, 900) for _ in range(100)]\n",
        "print(\"Generated 100 random numbers between 100 and 900\")\n",
        "\n",
        "odd_numbers = [n for n in numbers if n % 2 != 0]\n",
        "even_numbers = [n for n in numbers if n % 2 == 0]\n",
        "prime_numbers = [n for n in numbers if is_prime(n)]\n",
        "\n",
        "print(f\"\\nNumber of odd numbers: {len(odd_numbers)}\")\n",
        "print(f\"Number of even numbers: {len(even_numbers)}\")\n",
        "print(f\"Number of prime numbers: {len(prime_numbers)}\")"
      ],
      "metadata": {
        "colab": {
          "base_uri": "https://localhost:8080/"
        },
        "id": "Y6JhcFAUZ6Lk",
        "outputId": "2bc4f19c-f94a-4fd7-89f9-f32f521587a2"
      },
      "execution_count": 8,
      "outputs": [
        {
          "output_type": "stream",
          "name": "stdout",
          "text": [
            "SOLUTION 3: RANDOM NUMBERS ANALYSIS\n",
            "--------------------------------------------------\n",
            "Generated 100 random numbers between 100 and 900\n",
            "\n",
            "Number of odd numbers: 46\n",
            "Number of even numbers: 54\n",
            "Number of prime numbers: 16\n"
          ]
        }
      ]
    },
    {
      "cell_type": "code",
      "source": [
        "print(\"SOLUTION 4: SET OPERATIONS\")\n",
        "print(\"-\" * 50)\n",
        "\n",
        "A = {34, 56, 78, 90}\n",
        "B = {78, 45, 90, 23}\n",
        "print(\"Set A:\", A)\n",
        "print(\"Set B:\", B)\n",
        "\n",
        "print(\"\\nUnique scores (Union):\", A.union(B))\n",
        "print(\"Common scores (Intersection):\", A.intersection(B))\n",
        "print(\"Exclusive scores (Symmetric difference):\", A.symmetric_difference(B))\n",
        "\n",
        "print(f\"\\nIs A subset of B? {A.issubset(B)}\")\n",
        "print(f\"Is B superset of A? {B.issuperset(A)}\")\n",
        "\n",
        "X = int(input(\"\\nEnter score to remove from A: \"))\n",
        "if X in A:\n",
        "    A.remove(X)\n",
        "    print(f\"Updated set A: {A}\")\n",
        "else:\n",
        "    print(f\"Score {X} not found in set A\")"
      ],
      "metadata": {
        "colab": {
          "base_uri": "https://localhost:8080/"
        },
        "id": "bAmtmAwHZ6OK",
        "outputId": "7d87f70a-c3d0-416c-ae03-31eeeec2529f"
      },
      "execution_count": 9,
      "outputs": [
        {
          "output_type": "stream",
          "name": "stdout",
          "text": [
            "SOLUTION 4: SET OPERATIONS\n",
            "--------------------------------------------------\n",
            "Set A: {56, 34, 90, 78}\n",
            "Set B: {90, 45, 78, 23}\n",
            "\n",
            "Unique scores (Union): {34, 45, 78, 23, 56, 90}\n",
            "Common scores (Intersection): {90, 78}\n",
            "Exclusive scores (Symmetric difference): {34, 45, 23, 56}\n",
            "\n",
            "Is A subset of B? False\n",
            "Is B superset of A? False\n",
            "\n",
            "Enter score to remove from A: 90\n",
            "Updated set A: {56, 34, 78}\n"
          ]
        }
      ]
    },
    {
      "cell_type": "code",
      "source": [
        "print(\"SOLUTION 5: DICTIONARY KEY RENAMING\")\n",
        "print(\"-\" * 50)\n",
        "\n",
        "sample_dict = {\n",
        "    \"name\": \"Kelly\",\n",
        "    \"age\": 25,\n",
        "    \"salary\": 8000,\n",
        "    \"city\": \"New york\"\n",
        "}\n",
        "\n",
        "print(\"Original dictionary:\", sample_dict)\n",
        "sample_dict[\"location\"] = sample_dict.pop(\"city\")\n",
        "print(\"\\nDictionary after renaming 'city' to 'location':\", sample_dict)"
      ],
      "metadata": {
        "colab": {
          "base_uri": "https://localhost:8080/"
        },
        "id": "XjaPSpAkZ6Rr",
        "outputId": "2872ff11-f0a1-455f-acbb-44f61e6b3cf0"
      },
      "execution_count": 10,
      "outputs": [
        {
          "output_type": "stream",
          "name": "stdout",
          "text": [
            "SOLUTION 5: DICTIONARY KEY RENAMING\n",
            "--------------------------------------------------\n",
            "Original dictionary: {'name': 'Kelly', 'age': 25, 'salary': 8000, 'city': 'New york'}\n",
            "\n",
            "Dictionary after renaming 'city' to 'location': {'name': 'Kelly', 'age': 25, 'salary': 8000, 'location': 'New york'}\n"
          ]
        }
      ]
    }
  ]
}